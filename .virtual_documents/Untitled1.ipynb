# Importar las librerías necesarias
import numpy as np
import pandas as pd
from sklearn.model_selection import train_test_split
from sklearn.ensemble import RandomForestClassifier
from sklearn.metrics import accuracy_score, classification_report

# Cargar el dataset (reemplaza 'dataset.csv' con tu archivo o dataset real)
# Asegúrate de que el archivo esté en el mismo directorio que tu notebook o da la ruta completa
data = pd.read_csv("new.csv.zip")

# Preprocesar los datos (esto depende de tu dataset; ajusta según corresponda)
X = data.drop("target", axis=1)  # Reemplaza 'target' con el nombre de tu variable objetivo
y = data["target"]

# Dividir los datos en conjuntos de entrenamiento y prueba
X_train, X_test, y_train, y_test = train_test_split(X, y, test_size=0.2, random_state=42)

# Entrenar un modelo
model = RandomForestClassifier(random_state=42, n_estimators=100)
model.fit(X_train, y_train)

# Hacer predicciones
y_pred = model.predict(X_test)

# Evaluar el modelo
accuracy = accuracy_score(y_test, y_pred)
print(f"Accuracy: {accuracy:.2f}")
print("Classification Report:")
print(classification_report(y_test, y_pred))




